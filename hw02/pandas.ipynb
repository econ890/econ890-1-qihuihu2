{
 "cells": [
  {
   "cell_type": "code",
   "execution_count": 4,
   "metadata": {},
   "outputs": [],
   "source": [
    "import pandas as pd\n",
    "\n",
    "# Display 6 columns for viewing purposes\n",
    "pd.set_option('display.max_columns', 6)\n",
    "# Reduce decimal points to 2\n",
    "pd.options.display.float_format = '{:,.2f}'.format"
   ]
  },
  {
   "cell_type": "markdown",
   "metadata": {},
   "source": [
    "## Exercise 1"
   ]
  },
  {
   "cell_type": "code",
   "execution_count": 58,
   "metadata": {},
   "outputs": [],
   "source": [
    "url3 = 'https://raw.githubusercontent.com/QuantEcon/lecture-python/master/source/_static/lecture_specific/pandas_panel/employ.csv'"
   ]
  },
  {
   "cell_type": "code",
   "execution_count": 60,
   "metadata": {},
   "outputs": [],
   "source": [
    "employ_long = pd.read_csv(url3)\n",
    "employ_wide = employ_long.pivot_table(values = 'Value',\n",
    "                                      index = 'DATE',\n",
    "                                      columns = ['GEO', 'AGE', 'UNIT', 'SEX', 'INDIC_EM'])\n",
    "employ_wide.index = pd.to_datetime(employ.index)"
   ]
  },
  {
   "cell_type": "code",
   "execution_count": 27,
   "metadata": {
    "scrolled": true
   },
   "outputs": [
    {
     "data": {
      "text/html": [
       "<div>\n",
       "<style scoped>\n",
       "    .dataframe tbody tr th:only-of-type {\n",
       "        vertical-align: middle;\n",
       "    }\n",
       "\n",
       "    .dataframe tbody tr th {\n",
       "        vertical-align: top;\n",
       "    }\n",
       "\n",
       "    .dataframe thead tr th {\n",
       "        text-align: left;\n",
       "    }\n",
       "\n",
       "    .dataframe thead tr:last-of-type th {\n",
       "        text-align: right;\n",
       "    }\n",
       "</style>\n",
       "<table border=\"1\" class=\"dataframe\">\n",
       "  <thead>\n",
       "    <tr>\n",
       "      <th>GEO</th>\n",
       "      <th colspan=\"3\" halign=\"left\">Austria</th>\n",
       "      <th>...</th>\n",
       "      <th colspan=\"3\" halign=\"left\">United Kingdom</th>\n",
       "    </tr>\n",
       "    <tr>\n",
       "      <th>AGE</th>\n",
       "      <th colspan=\"3\" halign=\"left\">From 15 to 24 years</th>\n",
       "      <th>...</th>\n",
       "      <th colspan=\"3\" halign=\"left\">From 55 to 64 years</th>\n",
       "    </tr>\n",
       "    <tr>\n",
       "      <th>UNIT</th>\n",
       "      <th colspan=\"3\" halign=\"left\">Percentage of total population</th>\n",
       "      <th>...</th>\n",
       "      <th colspan=\"3\" halign=\"left\">Thousand persons</th>\n",
       "    </tr>\n",
       "    <tr>\n",
       "      <th>SEX</th>\n",
       "      <th colspan=\"2\" halign=\"left\">Females</th>\n",
       "      <th>Males</th>\n",
       "      <th>...</th>\n",
       "      <th>Males</th>\n",
       "      <th colspan=\"2\" halign=\"left\">Total</th>\n",
       "    </tr>\n",
       "    <tr>\n",
       "      <th>INDIC_EM</th>\n",
       "      <th>Active population</th>\n",
       "      <th>Total employment (resident population concept - LFS)</th>\n",
       "      <th>Active population</th>\n",
       "      <th>...</th>\n",
       "      <th>Total employment (resident population concept - LFS)</th>\n",
       "      <th>Active population</th>\n",
       "      <th>Total employment (resident population concept - LFS)</th>\n",
       "    </tr>\n",
       "    <tr>\n",
       "      <th>DATE</th>\n",
       "      <th></th>\n",
       "      <th></th>\n",
       "      <th></th>\n",
       "      <th></th>\n",
       "      <th></th>\n",
       "      <th></th>\n",
       "      <th></th>\n",
       "    </tr>\n",
       "  </thead>\n",
       "  <tbody>\n",
       "    <tr>\n",
       "      <th>2007-01-01</th>\n",
       "      <td>56.00</td>\n",
       "      <td>50.60</td>\n",
       "      <td>62.90</td>\n",
       "      <td>...</td>\n",
       "      <td>2,342.00</td>\n",
       "      <td>4,268.00</td>\n",
       "      <td>4,131.00</td>\n",
       "    </tr>\n",
       "    <tr>\n",
       "      <th>2008-01-01</th>\n",
       "      <td>56.20</td>\n",
       "      <td>51.30</td>\n",
       "      <td>62.90</td>\n",
       "      <td>...</td>\n",
       "      <td>2,397.00</td>\n",
       "      <td>4,340.00</td>\n",
       "      <td>4,204.00</td>\n",
       "    </tr>\n",
       "    <tr>\n",
       "      <th>2009-01-01</th>\n",
       "      <td>56.20</td>\n",
       "      <td>50.50</td>\n",
       "      <td>62.90</td>\n",
       "      <td>...</td>\n",
       "      <td>2,370.00</td>\n",
       "      <td>4,395.00</td>\n",
       "      <td>4,193.00</td>\n",
       "    </tr>\n",
       "    <tr>\n",
       "      <th>2010-01-01</th>\n",
       "      <td>54.00</td>\n",
       "      <td>48.90</td>\n",
       "      <td>62.60</td>\n",
       "      <td>...</td>\n",
       "      <td>2,343.00</td>\n",
       "      <td>4,394.00</td>\n",
       "      <td>4,186.00</td>\n",
       "    </tr>\n",
       "    <tr>\n",
       "      <th>2011-01-01</th>\n",
       "      <td>54.80</td>\n",
       "      <td>49.80</td>\n",
       "      <td>63.60</td>\n",
       "      <td>...</td>\n",
       "      <td>2,315.00</td>\n",
       "      <td>4,383.00</td>\n",
       "      <td>4,164.00</td>\n",
       "    </tr>\n",
       "  </tbody>\n",
       "</table>\n",
       "<p>5 rows × 1440 columns</p>\n",
       "</div>"
      ],
      "text/plain": [
       "GEO                               Austria  \\\n",
       "AGE                   From 15 to 24 years   \n",
       "UNIT       Percentage of total population   \n",
       "SEX                               Females   \n",
       "INDIC_EM                Active population   \n",
       "DATE                                        \n",
       "2007-01-01                          56.00   \n",
       "2008-01-01                          56.20   \n",
       "2009-01-01                          56.20   \n",
       "2010-01-01                          54.00   \n",
       "2011-01-01                          54.80   \n",
       "\n",
       "GEO                                                              \\\n",
       "AGE                                                               \n",
       "UNIT                                                              \n",
       "SEX                                                               \n",
       "INDIC_EM   Total employment (resident population concept - LFS)   \n",
       "DATE                                                              \n",
       "2007-01-01                                              50.60     \n",
       "2008-01-01                                              51.30     \n",
       "2009-01-01                                              50.50     \n",
       "2010-01-01                                              48.90     \n",
       "2011-01-01                                              49.80     \n",
       "\n",
       "GEO                           ...  \\\n",
       "AGE                           ...   \n",
       "UNIT                          ...   \n",
       "SEX                    Males  ...   \n",
       "INDIC_EM   Active population  ...   \n",
       "DATE                          ...   \n",
       "2007-01-01             62.90  ...   \n",
       "2008-01-01             62.90  ...   \n",
       "2009-01-01             62.90  ...   \n",
       "2010-01-01             62.60  ...   \n",
       "2011-01-01             63.60  ...   \n",
       "\n",
       "GEO                                              United Kingdom  \\\n",
       "AGE                                         From 55 to 64 years   \n",
       "UNIT                                           Thousand persons   \n",
       "SEX                                                       Males   \n",
       "INDIC_EM   Total employment (resident population concept - LFS)   \n",
       "DATE                                                              \n",
       "2007-01-01                                           2,342.00     \n",
       "2008-01-01                                           2,397.00     \n",
       "2009-01-01                                           2,370.00     \n",
       "2010-01-01                                           2,343.00     \n",
       "2011-01-01                                           2,315.00     \n",
       "\n",
       "GEO                           \\\n",
       "AGE                            \n",
       "UNIT                           \n",
       "SEX                    Total   \n",
       "INDIC_EM   Active population   \n",
       "DATE                           \n",
       "2007-01-01          4,268.00   \n",
       "2008-01-01          4,340.00   \n",
       "2009-01-01          4,395.00   \n",
       "2010-01-01          4,394.00   \n",
       "2011-01-01          4,383.00   \n",
       "\n",
       "GEO                                                              \n",
       "AGE                                                              \n",
       "UNIT                                                             \n",
       "SEX                                                              \n",
       "INDIC_EM   Total employment (resident population concept - LFS)  \n",
       "DATE                                                             \n",
       "2007-01-01                                           4,131.00    \n",
       "2008-01-01                                           4,204.00    \n",
       "2009-01-01                                           4,193.00    \n",
       "2010-01-01                                           4,186.00    \n",
       "2011-01-01                                           4,164.00    \n",
       "\n",
       "[5 rows x 1440 columns]"
      ]
     },
     "execution_count": 27,
     "metadata": {},
     "output_type": "execute_result"
    }
   ],
   "source": [
    "employ_wide.head()"
   ]
  },
  {
   "cell_type": "code",
   "execution_count": 31,
   "metadata": {},
   "outputs": [
    {
     "data": {
      "text/plain": [
       "FrozenList(['GEO', 'AGE', 'UNIT', 'SEX', 'INDIC_EM'])"
      ]
     },
     "execution_count": 31,
     "metadata": {},
     "output_type": "execute_result"
    }
   ],
   "source": [
    "employ_wide.columns.names"
   ]
  },
  {
   "cell_type": "code",
   "execution_count": 41,
   "metadata": {
    "scrolled": true
   },
   "outputs": [
    {
     "name": "stdout",
     "output_type": "stream",
     "text": [
      "GEO :\n",
      "['Austria', 'Belgium', 'Bulgaria', 'Croatia', 'Cyprus', 'Czech Republic', 'Denmark', 'Estonia', 'Euro area (17 countries)', 'Euro area (18 countries)', 'Euro area (19 countries)', 'European Union (15 countries)', 'European Union (27 countries)', 'European Union (28 countries)', 'Finland', 'Former Yugoslav Republic of Macedonia, the', 'France', 'France (metropolitan)', 'Germany (until 1990 former territory of the FRG)', 'Greece', 'Hungary', 'Iceland', 'Ireland', 'Italy', 'Latvia', 'Lithuania', 'Luxembourg', 'Malta', 'Netherlands', 'Norway', 'Poland', 'Portugal', 'Romania', 'Slovakia', 'Slovenia', 'Spain', 'Sweden', 'Switzerland', 'Turkey', 'United Kingdom']\n",
      "\n",
      "AGE :\n",
      "['From 15 to 24 years', 'From 25 to 54 years', 'From 55 to 64 years']\n",
      "\n",
      "UNIT :\n",
      "['Percentage of total population', 'Thousand persons']\n",
      "\n",
      "SEX :\n",
      "['Females', 'Males', 'Total']\n",
      "\n",
      "INDIC_EM :\n",
      "['Active population', 'Total employment (resident population concept - LFS)']\n",
      "\n"
     ]
    }
   ],
   "source": [
    "# returns all values in an index level\n",
    "def get_value(data, level):\n",
    "    level_value = data.columns.get_level_values(level).unique().to_list()\n",
    "    return level_value\n",
    "    \n",
    "\n",
    "for level_name in employ_wide.columns.names:\n",
    "    level_value = get_value(employ_wide, level_name)\n",
    "    \n",
    "    print(level_name, \":\")\n",
    "    print(level_value)\n",
    "    print( )"
   ]
  },
  {
   "cell_type": "markdown",
   "metadata": {},
   "source": [
    "## Exercise 2"
   ]
  },
  {
   "cell_type": "code",
   "execution_count": 76,
   "metadata": {},
   "outputs": [],
   "source": [
    "import re\n",
    "import numpy as np\n",
    "import seaborn as sns\n",
    "import matplotlib.pyplot as plt"
   ]
  },
  {
   "cell_type": "code",
   "execution_count": 81,
   "metadata": {
    "scrolled": true
   },
   "outputs": [],
   "source": [
    "# Only keep GEO that is a country:\n",
    "geo = employ_wide.columns.get_level_values('GEO').unique().tolist()\n",
    "keep = [re.match('Euro.*', g) is None for g in geo]\n",
    "countries = [geo[i] for i in range(len(geo)) if keep[i]]\n",
    "employ_wide = employ_wide[countries]"
   ]
  },
  {
   "cell_type": "code",
   "execution_count": 82,
   "metadata": {
    "scrolled": true
   },
   "outputs": [
    {
     "data": {
      "text/html": [
       "<div>\n",
       "<style scoped>\n",
       "    .dataframe tbody tr th:only-of-type {\n",
       "        vertical-align: middle;\n",
       "    }\n",
       "\n",
       "    .dataframe tbody tr th {\n",
       "        vertical-align: top;\n",
       "    }\n",
       "\n",
       "    .dataframe thead tr th {\n",
       "        text-align: left;\n",
       "    }\n",
       "\n",
       "    .dataframe thead tr:last-of-type th {\n",
       "        text-align: right;\n",
       "    }\n",
       "</style>\n",
       "<table border=\"1\" class=\"dataframe\">\n",
       "  <thead>\n",
       "    <tr>\n",
       "      <th>GEO</th>\n",
       "      <th colspan=\"3\" halign=\"left\">Austria</th>\n",
       "      <th>...</th>\n",
       "      <th colspan=\"3\" halign=\"left\">United Kingdom</th>\n",
       "    </tr>\n",
       "    <tr>\n",
       "      <th>AGE</th>\n",
       "      <th colspan=\"3\" halign=\"left\">From 15 to 24 years</th>\n",
       "      <th>...</th>\n",
       "      <th colspan=\"3\" halign=\"left\">From 55 to 64 years</th>\n",
       "    </tr>\n",
       "    <tr>\n",
       "      <th>SEX</th>\n",
       "      <th>Females</th>\n",
       "      <th>Males</th>\n",
       "      <th>Total</th>\n",
       "      <th>...</th>\n",
       "      <th>Females</th>\n",
       "      <th>Males</th>\n",
       "      <th>Total</th>\n",
       "    </tr>\n",
       "    <tr>\n",
       "      <th>DATE</th>\n",
       "      <th></th>\n",
       "      <th></th>\n",
       "      <th></th>\n",
       "      <th></th>\n",
       "      <th></th>\n",
       "      <th></th>\n",
       "      <th></th>\n",
       "    </tr>\n",
       "  </thead>\n",
       "  <tbody>\n",
       "    <tr>\n",
       "      <th>2007-01-01</th>\n",
       "      <td>56.00</td>\n",
       "      <td>62.90</td>\n",
       "      <td>59.40</td>\n",
       "      <td>...</td>\n",
       "      <td>49.90</td>\n",
       "      <td>68.90</td>\n",
       "      <td>59.30</td>\n",
       "    </tr>\n",
       "    <tr>\n",
       "      <th>2008-01-01</th>\n",
       "      <td>56.20</td>\n",
       "      <td>62.90</td>\n",
       "      <td>59.50</td>\n",
       "      <td>...</td>\n",
       "      <td>50.20</td>\n",
       "      <td>69.80</td>\n",
       "      <td>59.80</td>\n",
       "    </tr>\n",
       "    <tr>\n",
       "      <th>2009-01-01</th>\n",
       "      <td>56.20</td>\n",
       "      <td>62.90</td>\n",
       "      <td>59.50</td>\n",
       "      <td>...</td>\n",
       "      <td>50.60</td>\n",
       "      <td>70.30</td>\n",
       "      <td>60.30</td>\n",
       "    </tr>\n",
       "    <tr>\n",
       "      <th>2010-01-01</th>\n",
       "      <td>54.00</td>\n",
       "      <td>62.60</td>\n",
       "      <td>58.30</td>\n",
       "      <td>...</td>\n",
       "      <td>51.10</td>\n",
       "      <td>69.20</td>\n",
       "      <td>60.00</td>\n",
       "    </tr>\n",
       "    <tr>\n",
       "      <th>2011-01-01</th>\n",
       "      <td>54.80</td>\n",
       "      <td>63.60</td>\n",
       "      <td>59.20</td>\n",
       "      <td>...</td>\n",
       "      <td>51.30</td>\n",
       "      <td>68.40</td>\n",
       "      <td>59.70</td>\n",
       "    </tr>\n",
       "  </tbody>\n",
       "</table>\n",
       "<p>5 rows × 306 columns</p>\n",
       "</div>"
      ],
      "text/plain": [
       "GEO                    Austria              ...      United Kingdom        \\\n",
       "AGE        From 15 to 24 years              ... From 55 to 64 years         \n",
       "SEX                    Females Males Total  ...             Females Males   \n",
       "DATE                                        ...                             \n",
       "2007-01-01               56.00 62.90 59.40  ...               49.90 68.90   \n",
       "2008-01-01               56.20 62.90 59.50  ...               50.20 69.80   \n",
       "2009-01-01               56.20 62.90 59.50  ...               50.60 70.30   \n",
       "2010-01-01               54.00 62.60 58.30  ...               51.10 69.20   \n",
       "2011-01-01               54.80 63.60 59.20  ...               51.30 68.40   \n",
       "\n",
       "GEO               \n",
       "AGE               \n",
       "SEX        Total  \n",
       "DATE              \n",
       "2007-01-01 59.30  \n",
       "2008-01-01 59.80  \n",
       "2009-01-01 60.30  \n",
       "2010-01-01 60.00  \n",
       "2011-01-01 59.70  \n",
       "\n",
       "[5 rows x 306 columns]"
      ]
     },
     "execution_count": 82,
     "metadata": {},
     "output_type": "execute_result"
    }
   ],
   "source": [
    "employ_f = employ_wide.xs(('Percentage of total population', 'Active population'),\n",
    "                          level=('UNIT', 'INDIC_EM'),\n",
    "                          axis=1)\n",
    "employ_f.head()"
   ]
  },
  {
   "cell_type": "code",
   "execution_count": 83,
   "metadata": {
    "scrolled": true
   },
   "outputs": [
    {
     "data": {
      "image/png": "[encoded data removed]",
      "text/plain": [
       "<Figure size 432x288 with 1 Axes>"
      ]
     },
     "metadata": {
      "needs_background": "light"
     },
     "output_type": "display_data"
    }
   ],
   "source": [
    "box = employ_f['2015'].unstack().reset_index()\n",
    "sns.boxplot(x=\"AGE\", y=0, hue=\"SEX\", data=box, palette=(\"husl\"), showfliers=False)\n",
    "plt.xlabel('')\n",
    "plt.xticks(rotation=30)\n",
    "plt.ylabel('Percentage of population (%)')\n",
    "plt.title('Employment Rate in 2015')\n",
    "plt.legend(bbox_to_anchor=(1,0.5))\n",
    "plt.show()"
   ]
  },
  {
   "cell_type": "code",
   "execution_count": null,
   "metadata": {},
   "outputs": [],
   "source": []
  }
 ],
 "metadata": {
  "kernelspec": {
   "display_name": "virtualenvs Python 3",
   "language": "python",
   "name": "base"
  },
  "language_info": {
   "codemirror_mode": {
    "name": "ipython",
    "version": 3
   },
   "file_extension": ".py",
   "mimetype": "text/x-python",
   "name": "python",
   "nbconvert_exporter": "python",
   "pygments_lexer": "ipython3",
   "version": "3.7.6"
  }
 },
 "nbformat": 4,
 "nbformat_minor": 4
}
